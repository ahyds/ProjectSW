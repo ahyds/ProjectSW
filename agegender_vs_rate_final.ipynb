{
 "cells": [
  {
   "cell_type": "code",
   "execution_count": null,
   "metadata": {},
   "outputs": [],
   "source": [
    "# Dependencies\n",
    "import pandas as pd\n",
    "import numpy as np\n",
    "import matplotlib.pyplot as plt"
   ]
  },
  {
   "cell_type": "code",
   "execution_count": null,
   "metadata": {},
   "outputs": [],
   "source": [
    "# Read in cleaned data, and clean again\n",
    "data = pd.read_csv(\"data/sub_dataset.csv\")\n",
    "del data[\"country-year\"]\n",
    "data.head()"
   ]
  },
  {
   "cell_type": "code",
   "execution_count": null,
   "metadata": {},
   "outputs": [],
   "source": [
    "data[\"age\"].value_counts()"
   ]
  },
  {
   "cell_type": "code",
   "execution_count": null,
   "metadata": {},
   "outputs": [],
   "source": [
    "data[\"sex\"].value_counts()"
   ]
  },
  {
   "cell_type": "code",
   "execution_count": null,
   "metadata": {},
   "outputs": [],
   "source": [
    "# Grouping\n",
    "\n",
    "sub_data = data.loc[:,[\"country\",\"year\",\"sex\",\"age\",\"suicides_no\"]]\n",
    "#group_data = sub_data.groupby([\"country\",\"age\",\"sex\"])\n",
    "group_data = sub_data.groupby([\"age\",\"sex\"])\n",
    "\n",
    "suicide_sum = pd.DataFrame(group_data[\"suicides_no\"].sum())"
   ]
  },
  {
   "cell_type": "code",
   "execution_count": null,
   "metadata": {},
   "outputs": [],
   "source": [
    "# DataFrame Overview\n",
    "\n",
    "suicide_sum.rename(columns = {\"suicides_no\":\"suicides_sum\"})\n",
    "suicide_sum.sort_values(\"age\")\n",
    "suicide_sum.head()"
   ]
  },
  {
   "cell_type": "code",
   "execution_count": null,
   "metadata": {},
   "outputs": [],
   "source": [
    "# Unstack the DataFrame to create bar chart\n",
    "suicide_sum = suicide_sum.unstack()\n",
    "suicide_sum"
   ]
  },
  {
   "cell_type": "code",
   "execution_count": null,
   "metadata": {},
   "outputs": [],
   "source": [
    "# Create an index column to sort age group\n",
    "ind = [2, 3, 4, 1, 5, 6]\n",
    "suicide_sum[\"index_col\"] = ind\n",
    "suicide_sum = suicide_sum.sort_values(\"index_col\")['suicides_no']\n",
    "suicide_sum"
   ]
  },
  {
   "cell_type": "code",
   "execution_count": null,
   "metadata": {},
   "outputs": [],
   "source": [
    "suicide_sum.plot(kind=\"bar\", rot = 0, figsize = (10,4), \n",
    "                 color = [\"orangered\",\"steelblue\"], fontsize = 12, alpha = 0.8)\n",
    "\n",
    "plt.legend([\"Female\",\"Male\"],title=\"Sex\")\n",
    "plt.title(\"Number of Suicides within Each Age Group\")\n",
    "plt.xlabel(\"Age Group\")\n",
    "plt.ylabel(\"Count\")\n",
    "plt.grid()\n",
    "plt.savefig(\"Images/age_group_bar.png\")\n",
    "\n",
    "plt.show()"
   ]
  },
  {
   "cell_type": "code",
   "execution_count": null,
   "metadata": {},
   "outputs": [],
   "source": [
    "# Another graph showing sum of suicide counts for female and male  \n",
    "sex_group = sub_data.groupby([\"sex\"])\n",
    "sum_by_sex = pd.DataFrame(sex_group[\"suicides_no\"].sum())\n",
    "sum_by_sex"
   ]
  },
  {
   "cell_type": "code",
   "execution_count": null,
   "metadata": {},
   "outputs": [],
   "source": [
    "plt.figure()\n",
    "\n",
    "sum_by_sex.plot(kind = \"bar\", color = \"steelblue\", width = 0.3, alpha = 0.8, rot = 0, fontsize = 12)\n",
    "plt.title(\"Number of Suicides by Sex\")\n",
    "plt.ylabel(\"Count\")\n",
    "plt.legend([\"Suicides Num\"],loc=\"best\")\n",
    "plt.savefig(\"Images/sex_group_bar.png\")\n",
    "plt.show()"
   ]
  },
  {
   "cell_type": "code",
   "execution_count": null,
   "metadata": {},
   "outputs": [],
   "source": [
    "# Do a two sample T-Test on female and male data\n",
    "import scipy.stats as stats\n",
    "df3 = sub_data.groupby([\"sex\",\"year\"])\n",
    "df3_sum = pd.DataFrame(df3[\"suicides_no\"].sum())\n",
    "df3_sum"
   ]
  },
  {
   "cell_type": "code",
   "execution_count": null,
   "metadata": {},
   "outputs": [],
   "source": [
    "df_female = sub_data.loc[sub_data[\"sex\"] == \"female\", :]\n",
    "df_male = sub_data.loc[sub_data[\"sex\"] == \"male\", :]\n",
    "\n",
    "stats.ttest_ind(df_female[\"suicides_no\"], df_male[\"suicides_no\"], equal_var=False)"
   ]
  },
  {
   "cell_type": "code",
   "execution_count": null,
   "metadata": {},
   "outputs": [],
   "source": [
    "suicide_sum[\"male_to_female_ratio\"] = suicide_sum[\"male\"]//suicide_sum[\"female\"]\n",
    "suicide_sum"
   ]
  },
  {
   "cell_type": "code",
   "execution_count": null,
   "metadata": {},
   "outputs": [],
   "source": []
  }
 ],
 "metadata": {
  "kernelspec": {
   "display_name": "Python 3",
   "language": "python",
   "name": "python3"
  },
  "language_info": {
   "codemirror_mode": {
    "name": "ipython",
    "version": 3
   },
   "file_extension": ".py",
   "mimetype": "text/x-python",
   "name": "python",
   "nbconvert_exporter": "python",
   "pygments_lexer": "ipython3",
   "version": "3.7.3"
  }
 },
 "nbformat": 4,
 "nbformat_minor": 2
}
